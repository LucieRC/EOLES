{
    "cells": [
        {
            "cell_type": "markdown",
            "metadata": {},
            "source": [
                "# Introduction\n",
                "\n",
                "## GAMS\n",
                "\n",
                "GAMS is a high level modeling system for mathematical programming and optimization. It consists of a language compiler and a range of associated solvers. GAMS is designed for modeling and solving linear, nonlinear, and mixed-integer optimization problems. The first presentation of GAMS was in 1976, at the International Symposium on Mathematical Programming (ISMP). It's the first algebraic modeling language (AML). GAMS is a non-free software, it has a proprietary licence.\n",
                "\n",
                "## Python and Pyomo\n",
                "\n",
                "### Python\n",
                "\n",
                "Python is an interpreted, object-oriented, high-level programming language with dynamic semantics. Python supports modules and packages, which encourages program modularity and code reuse. It is developed under an OSI-approved open source license, making it freely usable and distributable, even for commercial use. The first version of Python was published in 1991 by Guido van Rossum, a Dutch programmer.\n",
                "\n",
                "### Pyomo\n",
                "\n",
                "Pyomo is a Python-based, open-source optimization modeling language with a diverse set of optimization capabilities for formulating, solving, and analyzing optimization models. Pyomo supports a wide range of problem types, including Linear programming, Nonlinear programming, Mixed-integer linear programming and more\n",
                "\n",
                "### Why Pyomo ?\n",
                "\n",
                "GAMS is a software which isn't free, then students and people who don't pay for it can't use the model as much as they want. So this is why the CIRED wanted a translation in an open-source language. Python with Pyomo offers a very good alternative of GAMS, It is easy-to-use, and more and more school uses Python to teach algorithm.\n",
                "\n",
                "## The Translation\n",
                "\n",
                "### Presentation of the work\n",
                "\n",
                "### Things to know before reading\n",
                "\n",
                "There is some things to know before programming in *Python* : \n",
                "- Variables are created when you assign a value to it. Python has no command for declaring a variable. The type of the variable depends of the value assigned to it. \n",
                "- There is no `;` at the end of an instruction, in *Python*, the end of an instruction is the end of the line.\n",
                "    - But for a better reading of, we can use `\\` to put the end of an instruction on a new line.\n",
                "- The identation of your code is very important. Python uses indentation to indicate a block of code. If you skip the identation, Python will return an error.\n",
                "- A tuple is an unchangeable collection of elements.  It can be any types. Tuple are define using `()`.\n",
                "\n",
                "# Pyomo Formulation\n",
                "\n",
                "## Imports\n",
                "\n",
                "In Python, there is a lot of libraries and modules created by the community like pyomo. We can import them with ``import``\n",
                "For this program we will use : \n",
                "* Pandas, a powerful, easy to use and open source data analysis and data manipulation tool.\n",
                "* Csv, A tool for python to write into csv files.\n",
                "* Time, A tool which will help us to measure the lenght of the program.\n",
                "* Sys, Which will help us to manage error in the program.\n",
                "\n",
                "On the first line, the word **as** is used to set an alias. Each time we want to call a *pyomo.environ* function, we just have to call *pyo* instead."
            ]
        },
        {
            "cell_type": "code",
            "execution_count": 1,
            "metadata": {},
            "outputs": [],
            "source": [
                "#Import Modules\n",
                "import pyomo.environ as pyo\n",
                "from pyomo.opt import SolverFactory\n",
                "import pandas as pd\n",
                "import csv\n",
                "import time\n",
                "import sys"
            ]
        },
        {
            "cell_type": "markdown",
            "metadata": {},
            "source": [
                "## Creation of the model\n",
                "\n",
                "In pyomo, the model has to be declared first. It will be created as an object. \\\n",
                "Each component we will define will be an attribute of this object. \\\n",
                "There are two type of models in Pyomo, `ConcreteModel` and `AbstractModel`.\\\n",
                "Eoles is a `ConcreteModel`.\n",
                "\n",
                "The suffix component of Pyomo is here to set a dual variable. Used to get the marginal value of an equation."
            ]
        },
        {
            "cell_type": "code",
            "execution_count": 2,
            "metadata": {},
            "outputs": [],
            "source": [
                "#Creation of the model\n",
                "model = pyo.ConcreteModel()\n",
                "\n",
                "#Dual Variable, used to get the marginal value of an equation.\n",
                "model.dual = pyo.Suffix(direction=pyo.Suffix.IMPORT)"
            ]
        },
        {
            "cell_type": "markdown",
            "metadata": {},
            "source": [
                "## Inputs\n",
                "\n",
                "The method ``read_csv`` of *Pandas* is used to read a csv file into a DataFrame :\n",
                "* The first argument is the ``PATH`` of the file.\n",
                "* ``index_col``   : Column to use as the index of the DataFrame.\n",
                "* ``squeeze``     : Boolean which is true in our program then if the parsed data only contains one column it will return a series.\n",
                "* ``header``      : Specify if the csv file contains a header.\n"
            ]
        },
        {
            "cell_type": "code",
            "execution_count": 3,
            "metadata": {},
            "outputs": [],
            "source": [
                "# Production profiles of VRE\n",
                "load_factor = pd.read_csv(\"inputs/vre_profiles2006new.csv\", index_col=[0, 1], squeeze=True, header=None)\n",
                "# maximum capacities of the technologies in GW\n",
                "capa_max = pd.read_csv(\"inputs/max_capas_elec_new.csv\", index_col=0, squeeze=True, header=None)\n",
                "# existing capacities of the technologies by December 2017 in GW\n",
                "capa_ex = pd.read_csv(\"inputs/existing_capas_elec_new.csv\", index_col=0, squeeze=True, header=None)\n",
                "\n",
                "##  Equivalent in GAMS  ##\n",
                "#   parameter load_factor(vre,h) 'Production profiles of VRE'\n",
                "#   /\n",
                "#   $ondelim\n",
                "#   $include  inputs/vre_profiles2006new.csv\n",
                "#   $offdelim\n",
                "#   /;\n",
                "#   parameter capa_max(vre) 'maximum capacities of the technologies in GW'\n",
                "#   /\n",
                "#   $ondelim\n",
                "#   $include  inputs/max_capas_elec_new.csv\n",
                "#   $offdelim\n",
                "#   / ;"
            ]
        },
        {
            "cell_type": "markdown",
            "metadata": {},
            "source": [
                "## Sets\n",
                "\n",
                "Sets are created with the ``Set`` attributs of *Pyomo*. We are passing elements in a table with the option _initialize_ : \\\n",
                "`model.set_name = pyo.Set(initialize=[\"elem_1\",\"elem_2\",\"...\"])` \\\n",
                "There is also `RangeSet` which needs the first and the last elements of the set : \\\n",
                "`model.set_range_name = pyo.RangeSet(0,10)`\n",
                "\n",
                "There is no need to define the domain of a subset."
            ]
        },
        {
            "cell_type": "code",
            "execution_count": 4,
            "metadata": {},
            "outputs": [],
            "source": [
                "#Declaration of the Sets\n",
                "model.tec = pyo.Set(initialize=[\"offshore_f\", \"river\", \"lake\", \"ccgt\"])\n",
                "model.vre = pyo.Set(initialize=[\"offshore_f\", \"river\"])\n",
                "#Declaration of a RangeSet from 0 to 8759.\n",
                "model.h = pyo.RangeSet(0,8759)\n",
                "\n",
                "##  Equivalent in GAMS   ##\n",
                "#   sets     h          'hour in the model'     /0*8759/\n",
                "#            tec        'technology'            /offshore_f, river, lake, ccgt /\n",
                "#            vre(tec)   'variable tecs'         /offshore_f, river /\n",
                "#   ;"
            ]
        },
        {
            "cell_type": "markdown",
            "metadata": {},
            "source": [
                "## Initial Values and Bounds\n",
                "\n",
                "For the variables of the model, we first declared a function which will return the lower bound and the upper bound of the variable in a tuple. Arguments of the function are the model object (here \"model\") and the parameters of the variable. \\\n",
                "The variable will iterate on this function through its parameters so we can defined for each parameters, bounds we want : \n",
                "```\n",
                "def function_name(model_object,argument):\n",
                "    if argument in [condition] :\n",
                "        return (lower_value,upper_value)\n",
                "    else :\n",
                "        return (value_lower,value_upper)\n",
                "```"
            ]
        },
        {
            "cell_type": "code",
            "execution_count": 5,
            "metadata": {},
            "outputs": [],
            "source": [
                "def capa_bounds(model,i):\n",
                "    if i == 'phs' :\n",
                "        #In the pyomo model, data are in miscellaneous.csv file\n",
                "        return (miscellaneous['phs_discharging_lower'],miscellaneous['phs_discharging_upper'])\n",
                "    elif i in model.vre:\n",
                "        return(None,capa_max[i])\n",
                "    else :\n",
                "        return(None,None)\n",
                "\n",
                "##  Equivalent in GAMS  ##\n",
                "#   CAPA.lo('phs') = 4.94;\n",
                "#   CAPA.up('phs') = 9.3;\n",
                "#   CAPA.up(vre) = capa_max(vre);"
            ]
        },
        {
            "cell_type": "markdown",
            "metadata": {},
            "source": [
                "## Variables\n",
                "\n",
                "Variables are created with the ``Variable`` attributs of *Pyomo*. We are passing sets as an argument with some options :\n",
                "```\n",
                "model.var_name = pyo.Var(\n",
                "    (sets_names),\n",
                "    within=domain,\n",
                "    initialization=initial_value,\n",
                "    bounds=function we defined earlier\n",
                "    )\n",
                "```\n",
                "If there is many sets in the parameters of a variable, you have to declare a tuple and set this tuple with a for loop. You can see how ot works in the example  : **model.gene** \\\n",
                "The option ``within=pyo.NonNegativeReals``, is from *Pyomo*, it means all positive reals including zero.\\\n",
                "You can find more domain set by *Pyomo* in the documentation.\n"
            ]
        },
        {
            "cell_type": "code",
            "execution_count": 6,
            "metadata": {},
            "outputs": [],
            "source": [
                "    # Hourly energy generation in GWh/h\n",
                "model.gene = \\\n",
                "    pyo.Var(((tec, h) for tec in model.tec for h in model.h), within=pyo.NonNegativeReals,initialize=0)\n",
                "    # Overall yearly installed capacity in GW\n",
                "model.capa = \\\n",
                "    pyo.Var(model.tec, within=pyo.NonNegativeReals, initialize=0,bounds=capa_bounds)\n",
                "\n",
                "##  Equivalent in GAMS  ##\n",
                "#   variables   GENE(tec,h) 'hourly energy generation in TWh'\n",
                "#               CAPA(tec)   'overall installed capacity in GW'\n",
                "#\n",
                "#   positive variables GENE(tec,h),CAPA(tec);\n"
            ]
        },
        {
            "cell_type": "markdown",
            "metadata": {},
            "source": [
                "## Fixed Values\n",
                "\n",
                "Fixed values are set with the variable's function `fix()`. We just have to call this function with the value we want between parenthesis : \n",
                "```\n",
                "model.variable_name['element'].fix(value)\n",
                "```"
            ]
        },
        {
            "cell_type": "code",
            "execution_count": 7,
            "metadata": {},
            "outputs": [],
            "source": [
                "model.capa['lake'].fix(capa_ex['lake'])\n",
                "model.capa['river'].fix(capa_ex['river'])\n",
                "\n",
                "##  Equivalent in GAMS  ##\n",
                "#   CAPA.fx('river')= capa_ex('river');\n",
                "#   CAPA.fx('lake') = capa_ex('lake');"
            ]
        },
        {
            "cell_type": "markdown",
            "metadata": {},
            "source": [
                "## Constraints\n",
                " \n",
                "With *Pyomo*, constraints creation needs two steps. First we will defined a function which will return the equation of the constraint. Then we will create the constraint with the ``Constraint`` attribut of *Pyomo*. This `Constraint` will have the function we just defined into a ``rule`` argument.\n",
                "The order of the argument in the definition of the function is very important, it has to be the same as in the constraint creation despite the constraint doesn't need the model object as a parameters :\n",
                "```\n",
                "def contraint_name_rule(model_object,argument):\n",
                "    return model_object.variable_name[argument] == model_object.name_variable[argument]\n",
                "\n",
                "model.constraint_name = pyo.Constraint(argument,rule=constraint_name_rule)\n",
                "```\n",
                "\n",
                "Relational Operators are differents between GAMS and Python :\n",
                "\n",
                "GAMS    | Python    | Definition                |\n",
                "---     | ---       | ---                       |\n",
                "=e=     | ==        | Equal to                  |\n",
                "=g=     | >=        | Greater than or equal to  |\n",
                "=l=     | <=        | Less than or equal to     |"
            ]
        },
        {
            "cell_type": "code",
            "execution_count": 8,
            "metadata": {},
            "outputs": [],
            "source": [
                "def generation_vre_constraint_rule(model, h, vre):\n",
                "    return model.gene[vre, h] == model.capa[vre] * load_factor[vre,h]\n",
                "\n",
                "model.generation_vre_constraint = \\\n",
                "    pyo.Constraint(model.h, model.vre, rule=generation_vre_constraint_rule)\n",
                "\n",
                "##  Equivalent in GAMS ##\n",
                "#   equation    gene_vre    'vre profiles generation\";\n",
                "#\n",
                "#   gene_vre(vre,h)..   GENE(vre,h) =e= CAPA(vre)*load_factor(vre,h);"
            ]
        },
        {
            "cell_type": "markdown",
            "metadata": {},
            "source": [
                "The definition of the objective is a little bit different between GAMS and Pyomo. In GAMS, the objective is a constraint like an other. \\\n",
                "In Pyomo, the objective rule function doesn't return an equation but directly the value of the objective. But the creation of the `Objective` is pretty similar as the creation of a `Constraint`. We just have to use `Pyo.Objective` instead as `Pyo.Constraint`"
            ]
        },
        {
            "cell_type": "code",
            "execution_count": 9,
            "metadata": {},
            "outputs": [],
            "source": [
                "#This objective function is not accurate, it's juste here to illustrate the concept\n",
                "def objective_rule(model):\n",
                "    return (sum(model.capa[tec] for tec in model.tec))/1000\n",
                "\n",
                "model.objective = pyo.Objective(rule=objective_rule)\n",
                "\n",
                "##  Equivalent in GAMS  ##\n",
                "#   equation    obj     'the final objective\";\n",
                "#\n",
                "#   obj..       COST =e= sum(tec,CAPA(tec))/1000;  "
            ]
        },
        {
            "cell_type": "markdown",
            "metadata": {},
            "source": [
                "## Solve Statement\n",
                "\n",
                "To Solve the model, we have to create the solver with `SolverFactory`. Then we can solve it with `solve(model_object)`"
            ]
        },
        {
            "cell_type": "code",
            "execution_count": 10,
            "metadata": {},
            "outputs": [],
            "source": [
                "opt = SolverFactory('gurobi')\n",
                "results = opt.solve(model)\n",
                "\n",
                "##  Equivalent in GAMS  ##\n",
                "#   model Eoles_elec /all/;\n",
                "#   option lp = gurobi;"
            ]
        },
        {
            "cell_type": "markdown",
            "metadata": {},
            "source": [
                "## Outputs\n",
                "\n",
                "Outputs are managed with a library : **csv**. \\\n",
                "There is an try/except instruction to manage errors : the program will try to write in the file and if this doesn't work, an error will be return. With this instruction, the programm will not stop if there is an error about an output. \\\n",
                "`with` allows us to open a file (to write in it) without closing it after. The file will be closed at the end of the instruction.  \\\n",
                "To access a value from a Pyomo attribut (Constraint or Variable) : ``pyo.value(model.attribut_name)``.\n",
                "\n",
                "This is like `display` in GAMS."
            ]
        },
        {
            "cell_type": "code",
            "execution_count": 11,
            "metadata": {},
            "outputs": [],
            "source": [
                "\"\"\"Creation of an output for eoles :\"\"\"\n",
                "\n",
                "#Name of the model, only used to name outputs\n",
                "model_name = \"Example\"\n",
                "\n",
                "#Name of the file\n",
                "out_file = \"outputs/eoles_\" + model_name + \"_summary.csv\"\n",
                "\n",
                "#Try / Except : To manage errors\n",
                "try:\n",
                "    #As il like \"alias\", here we open the file and we set an alias for this file.\n",
                "    with open(out_file,\"w\",newline=\"\") as output:\n",
                "\n",
                "        #Definition of a writer of the csv library.\n",
                "        output_writer = csv.writer(output)\n",
                "\n",
                "        #We set the value we want in a table then we write it as a row.\n",
                "        data = [\"Cost\",pyo.value(model.objective),\"...\"]\n",
                "        output_writer.writerow(data)\n",
                "\n",
                "#This instruction we be execute only if the program catch an error.\n",
                "except Exception as e:\n",
                "    print(\"There is an Error :\",e.args)"
            ]
        },
        {
            "cell_type": "markdown",
            "metadata": {},
            "source": [
                "# References\n",
                "\n",
                "* __Eoles__ : http://www.centre-cired.fr/quel-mix-electrique-optimal-en-france-en-2050/\n",
                "* __Python__ : https://docs.python.org/3/\n",
                "* __Pyomo__ : https://pyomo.readthedocs.io/en/stable/index.html\n",
                "* __GAMS__ : https://www.gams.com/latest/docs/\n",
                "* __Pandas__ : https://pandas.pydata.org/pandas-docs/stable/index.html\n",
                "\n",
                "If you have any question about this document or about the program you can ask on : *nilam.deoliveiragill@gmail.com*\n",
                "\n"
            ]
        }
    ],
    "metadata": {
        "kernelspec": {
            "display_name": "Python 3.10.4 64-bit",
            "language": "python",
            "name": "python3"
        },
        "language_info": {
            "codemirror_mode": {
                "name": "ipython",
                "version": 3
            },
            "file_extension": ".py",
            "mimetype": "text/x-python",
            "name": "python",
            "nbconvert_exporter": "python",
            "pygments_lexer": "ipython3",
            "version": "3.10.4"
        },
        "orig_nbformat": 4,
        "vscode": {
            "interpreter": {
                "hash": "aee8b7b246df8f9039afb4144a1f6fd8d2ca17a180786b69acc140d282b71a49"
            }
        }
    },
    "nbformat": 4,
    "nbformat_minor": 2
}
